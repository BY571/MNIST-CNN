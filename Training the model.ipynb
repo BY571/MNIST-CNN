{
 "cells": [
  {
   "cell_type": "markdown",
   "metadata": {},
   "source": [
    "# Loading the Data"
   ]
  },
  {
   "cell_type": "code",
   "execution_count": 1,
   "metadata": {},
   "outputs": [
    {
     "name": "stderr",
     "output_type": "stream",
     "text": [
      "Using TensorFlow backend.\n"
     ]
    }
   ],
   "source": [
    "import keras\n",
    "from keras.datasets import mnist\n",
    "from keras.models import Sequential\n",
    "from keras.layers import Dense, Flatten, Dropout\n",
    "from keras.layers.convolutional import Convolution2D\n",
    "from keras.layers.pooling import MaxPooling2D\n",
    "from keras.models import Model\n",
    "from keras.models import load_model\n",
    "import matplotlib.pyplot as plt\n",
    "#load mnist dataset\n",
    "(X_train_loaded, y_train_loaded), (X_test_loaded, y_test_loaded) = mnist.load_data()"
   ]
  },
  {
   "cell_type": "code",
   "execution_count": 2,
   "metadata": {},
   "outputs": [
    {
     "name": "stdout",
     "output_type": "stream",
     "text": [
      "Zahl:  0\n"
     ]
    },
    {
     "data": {
      "image/png": "[encoded data removed]",
      "text/plain": [
       "<Figure size 432x288 with 1 Axes>"
      ]
     },
     "metadata": {},
     "output_type": "display_data"
    }
   ],
   "source": [
    "plt.gray()\n",
    "plt.imshow(X_train_loaded[1])\n",
    "print(\"Zahl: \",y_train_loaded[1])"
   ]
  },
  {
   "cell_type": "code",
   "execution_count": 3,
   "metadata": {},
   "outputs": [],
   "source": [
    "X_train = X_train_loaded.reshape(X_train_loaded.shape[0], 28, 28, 1)\n",
    "X_test = X_test_loaded.reshape(X_test_loaded.shape[0], 28, 28, 1)\n",
    "\n",
    "X_train = X_train.astype('float32')\n",
    "X_test = X_test.astype('float32')\n",
    "\n",
    "X_train/=255\n",
    "X_test/=255"
   ]
  },
  {
   "cell_type": "code",
   "execution_count": 4,
   "metadata": {},
   "outputs": [],
   "source": [
    "number_of_classes = 10\n",
    "y_train = keras.utils.to_categorical(y_train_loaded, num_classes=number_of_classes)\n",
    "y_test = keras.utils.to_categorical(y_test_loaded, num_classes=number_of_classes)"
   ]
  },
  {
   "cell_type": "code",
   "execution_count": 5,
   "metadata": {
    "scrolled": true
   },
   "outputs": [
    {
     "name": "stdout",
     "output_type": "stream",
     "text": [
      "(28, 28, 1)\n",
      "(60000, 28, 28, 1)\n"
     ]
    }
   ],
   "source": [
    "input_shape = X_train[1].shape\n",
    "print(input_shape)\n",
    "print(X_train.shape)"
   ]
  },
  {
   "cell_type": "code",
   "execution_count": 6,
   "metadata": {},
   "outputs": [
    {
     "name": "stdout",
     "output_type": "stream",
     "text": [
      "WARNING:tensorflow:From /home/sebastian/.local/lib/python3.6/site-packages/keras/backend/tensorflow_backend.py:1205: calling reduce_prod (from tensorflow.python.ops.math_ops) with keep_dims is deprecated and will be removed in a future version.\n",
      "Instructions for updating:\n",
      "keep_dims is deprecated, use keepdims instead\n"
     ]
    }
   ],
   "source": [
    "model = Sequential()\n",
    "model.add(Convolution2D(24, kernel_size=(3, 3), strides=(1, 1),\n",
    "                 activation='relu',\n",
    "                 input_shape=input_shape))\n",
    "model.add(Convolution2D(32, (3, 3), activation='relu'))\n",
    "#model.add(MaxPooling2D(pool_size=(2, 2), strides=(2, 2)))\n",
    "model.add(Convolution2D(64, (3, 3), activation='relu'))\n",
    "#model.add(Convolution2D(64, (5, 5), activation='relu'))\n",
    "model.add(MaxPooling2D(pool_size=(2, 2)))\n",
    "model.add(Flatten())\n",
    "#model.add(Dense(450,activation = \"relu\"))\n",
    "model.add(Dropout(0.5))\n",
    "model.add(Dense(300,activation = \"relu\"))\n",
    "model.add(Dropout(0.5))\n",
    "model.add(Dense(150,activation = \"relu\"))\n",
    "model.add(Dense(10, activation=\"softmax\"))"
   ]
  },
  {
   "cell_type": "code",
   "execution_count": 7,
   "metadata": {
    "scrolled": false
   },
   "outputs": [
    {
     "name": "stdout",
     "output_type": "stream",
     "text": [
      "WARNING:tensorflow:From /home/sebastian/.local/lib/python3.6/site-packages/keras/backend/tensorflow_backend.py:2755: calling reduce_sum (from tensorflow.python.ops.math_ops) with keep_dims is deprecated and will be removed in a future version.\n",
      "Instructions for updating:\n",
      "keep_dims is deprecated, use keepdims instead\n",
      "WARNING:tensorflow:From /home/sebastian/.local/lib/python3.6/site-packages/keras/backend/tensorflow_backend.py:1290: calling reduce_mean (from tensorflow.python.ops.math_ops) with keep_dims is deprecated and will be removed in a future version.\n",
      "Instructions for updating:\n",
      "keep_dims is deprecated, use keepdims instead\n",
      "Train on 60000 samples, validate on 10000 samples\n",
      "Epoch 1/15\n",
      "60000/60000 [==============================] - 6s - loss: 0.2182 - acc: 0.9310 - val_loss: 0.0495 - val_acc: 0.9834\n",
      "Epoch 2/15\n",
      "60000/60000 [==============================] - 5s - loss: 0.0713 - acc: 0.9781 - val_loss: 0.0335 - val_acc: 0.9877\n",
      "Epoch 3/15\n",
      "60000/60000 [==============================] - 5s - loss: 0.0560 - acc: 0.9824 - val_loss: 0.0320 - val_acc: 0.9899\n",
      "Epoch 4/15\n",
      "60000/60000 [==============================] - 5s - loss: 0.0457 - acc: 0.9854 - val_loss: 0.0273 - val_acc: 0.9909\n",
      "Epoch 5/15\n",
      "60000/60000 [==============================] - 5s - loss: 0.0383 - acc: 0.9875 - val_loss: 0.0243 - val_acc: 0.9923\n",
      "Epoch 6/15\n",
      "60000/60000 [==============================] - 5s - loss: 0.0329 - acc: 0.9898 - val_loss: 0.0234 - val_acc: 0.9925\n",
      "Epoch 7/15\n",
      "60000/60000 [==============================] - 5s - loss: 0.0309 - acc: 0.9904 - val_loss: 0.0240 - val_acc: 0.9922\n",
      "Epoch 8/15\n",
      "60000/60000 [==============================] - 5s - loss: 0.0288 - acc: 0.9911 - val_loss: 0.0231 - val_acc: 0.9929\n",
      "Epoch 9/15\n",
      "60000/60000 [==============================] - 5s - loss: 0.0253 - acc: 0.9921 - val_loss: 0.0237 - val_acc: 0.9921\n",
      "Epoch 10/15\n",
      "60000/60000 [==============================] - 5s - loss: 0.0226 - acc: 0.9926 - val_loss: 0.0248 - val_acc: 0.9917\n",
      "Epoch 11/15\n",
      "60000/60000 [==============================] - 5s - loss: 0.0243 - acc: 0.9921 - val_loss: 0.0244 - val_acc: 0.9929\n",
      "Epoch 12/15\n",
      "60000/60000 [==============================] - 5s - loss: 0.0212 - acc: 0.9932 - val_loss: 0.0218 - val_acc: 0.9937\n",
      "Epoch 13/15\n",
      "60000/60000 [==============================] - 5s - loss: 0.0182 - acc: 0.9942 - val_loss: 0.0236 - val_acc: 0.9933\n",
      "Epoch 14/15\n",
      "60000/60000 [==============================] - 5s - loss: 0.0181 - acc: 0.9943 - val_loss: 0.0293 - val_acc: 0.9922\n",
      "Epoch 15/15\n",
      "60000/60000 [==============================] - 5s - loss: 0.0176 - acc: 0.9946 - val_loss: 0.0236 - val_acc: 0.9930\n",
      "dict_keys(['val_loss', 'val_acc', 'loss', 'acc'])\n"
     ]
    },
    {
     "data": {
      "image/png": "[encoded data removed]",
      "text/plain": [
       "<Figure size 432x288 with 1 Axes>"
      ]
     },
     "metadata": {},
     "output_type": "display_data"
    },
    {
     "data": {
      "image/png": "[encoded data removed]",
      "text/plain": [
       "<Figure size 432x288 with 1 Axes>"
      ]
     },
     "metadata": {},
     "output_type": "display_data"
    }
   ],
   "source": [
    "model.compile(loss=\"categorical_crossentropy\",\n",
    "              optimizer=\"adam\",   #adadelta\n",
    "              metrics=['accuracy'])\n",
    "history = model.fit(X_train,y_train, batch_size = 128, epochs = 15, verbose = 1,shuffle = True, validation_data =(X_test, y_test))\n",
    "print(history.history.keys())\n",
    "# Plot training & validation accuracy values\n",
    "plt.plot(history.history['acc'])\n",
    "plt.plot(history.history['val_acc'])\n",
    "plt.title('Model accuracy')\n",
    "plt.ylabel('Accuracy')\n",
    "plt.xlabel('Epoch')\n",
    "plt.legend(['Train', 'Test'], loc='upper left')\n",
    "plt.show()\n",
    "\n",
    "### plot the training and validation loss for each epoch\n",
    "fig = plt.figure()\n",
    "axes = fig.add_axes([0,0,1,1])\n",
    "axes.plot(history.history['loss'])\n",
    "axes.plot(history.history['val_loss'])\n",
    "axes.set_title('model mean squared error loss')\n",
    "axes.set_ylabel('mean squared error loss')\n",
    "axes.set_xlabel('epoch')\n",
    "axes.legend(['training set', 'validation set'], loc='upper right')\n",
    "plt.show()"
   ]
  },
  {
   "cell_type": "code",
   "execution_count": 62,
   "metadata": {},
   "outputs": [],
   "source": [
    "model.save('mnist_v1.h5')  # creates a HDF5 file 'my_model.h5'\n",
    "#del model  # deletes the existing model\n",
    "\n",
    "# returns a compiled model\n",
    "# identical to the previous one\n",
    "#model = load_model('my_model.h5')"
   ]
  },
  {
   "cell_type": "markdown",
   "metadata": {},
   "source": [
    "## Predictions"
   ]
  },
  {
   "cell_type": "code",
   "execution_count": 3,
   "metadata": {},
   "outputs": [],
   "source": [
    "import os"
   ]
  },
  {
   "cell_type": "code",
   "execution_count": 14,
   "metadata": {},
   "outputs": [],
   "source": [
    "import numpy as np\n",
    "import cv2\n",
    "import os\n",
    "import glob\n",
    "img_dir = \"Test_numbers/\" \n",
    "data_path = os.path.join(img_dir,'*.jpg')\n",
    "files = glob.glob(data_path)\n",
    "data = []\n",
    "for f1 in files:\n",
    "    img = cv2.imread(f1)\n",
    "    img =cv2.resize(img,(28,28)) #resize\n",
    "    img = cv2.bitwise_not(img) #invert color\n",
    "    img = cv2.cvtColor(img, cv2.COLOR_BGR2GRAY)\n",
    "    #img = img[:, :, np.newaxis]\n",
    "    img = img/255.\n",
    "    #img = np.resize(img,(28,28,1))\n",
    "    data.append(np.asarray(img,dtype = np.float32))"
   ]
  },
  {
   "cell_type": "code",
   "execution_count": 15,
   "metadata": {},
   "outputs": [
    {
     "data": {
      "text/plain": [
       "<matplotlib.image.AxesImage at 0x7f4b240c61d0>"
      ]
     },
     "execution_count": 15,
     "metadata": {},
     "output_type": "execute_result"
    },
    {
     "data": {
      "image/png": "[encoded data removed]",
      "text/plain": [
       "<Figure size 432x288 with 1 Axes>"
      ]
     },
     "metadata": {},
     "output_type": "display_data"
    }
   ],
   "source": [
    "plt.imshow(data[1],cmap = \"gray\")"
   ]
  },
  {
   "cell_type": "code",
   "execution_count": 8,
   "metadata": {},
   "outputs": [
    {
     "data": {
      "text/plain": [
       "[16643, 56964, 3367, 23263, 15231, 45350, 448, 32826, 38069]"
      ]
     },
     "execution_count": 8,
     "metadata": {},
     "output_type": "execute_result"
    }
   ],
   "source": [
    "import random\n",
    "random.sample(range(0, len(X_train)), 9)"
   ]
  },
  {
   "cell_type": "code",
   "execution_count": 51,
   "metadata": {},
   "outputs": [
    {
     "data": {
      "text/plain": [
       "(28, 28, 1)"
      ]
     },
     "execution_count": 51,
     "metadata": {},
     "output_type": "execute_result"
    }
   ],
   "source": [
    "data[1].shape"
   ]
  },
  {
   "cell_type": "code",
   "execution_count": 11,
   "metadata": {
    "scrolled": true
   },
   "outputs": [
    {
     "data": {
      "image/png": "[encoded data removed]",
      "text/plain": [
       "<Figure size 576x576 with 9 Axes>"
      ]
     },
     "metadata": {},
     "output_type": "display_data"
    }
   ],
   "source": [
    "%matplotlib inline\n",
    "\n",
    "def get_label(label):\n",
    "    return list(label).index(1) #or: np.where(label ==1)\n",
    "\n",
    "\n",
    "\n",
    "def model_prediction(l):\n",
    "    predictions = []\n",
    "    for i in l:\n",
    "        pred = model.predict(X_train[i])\n",
    "        predictions.append(pred)\n",
    "        \n",
    "    return predictions\n",
    "\n",
    "index_list = random.sample(range(0, len(X_train)), 9)\n",
    "fig, axes = plt.subplots(3,3, figsize=(8, 8))\n",
    "fig.subplots_adjust(hspace = .2, wspace=.001)\n",
    "axes = axes.ravel()\n",
    "for i in range(9):\n",
    "    index = index_list[i]\n",
    "    img = X_train_loaded[index]\n",
    "    axes[i].axis('off')\n",
    "    axes[i].imshow(img)\n",
    "    axes[i].set_title(get_label(y_train[index]))"
   ]
  },
  {
   "cell_type": "markdown",
   "metadata": {},
   "source": [
    "# TODO: \n",
    "\n",
    "- gather 9 pred images \n",
    "- crop them to 28,28 format and normalize them\n",
    "- try predictions!"
   ]
  }
 ],
 "metadata": {
  "kernelspec": {
   "display_name": "Python 3",
   "language": "python",
   "name": "python3"
  },
  "language_info": {
   "codemirror_mode": {
    "name": "ipython",
    "version": 3
   },
   "file_extension": ".py",
   "mimetype": "text/x-python",
   "name": "python",
   "nbconvert_exporter": "python",
   "pygments_lexer": "ipython3",
   "version": "3.6.5"
  }
 },
 "nbformat": 4,
 "nbformat_minor": 2
}
